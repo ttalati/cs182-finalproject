{
 "cells": [
  {
   "cell_type": "code",
   "execution_count": 9,
   "id": "373bcd91-1f9f-4517-9cc9-c6302f84695f",
   "metadata": {},
   "outputs": [],
   "source": [
    "import pandas as pd"
   ]
  },
  {
   "cell_type": "code",
   "execution_count": 15,
   "id": "e97e94fc-29c7-4be9-a67b-2ba3450456fb",
   "metadata": {},
   "outputs": [
    {
     "data": {
      "text/html": [
       "<div>\n",
       "<style scoped>\n",
       "    .dataframe tbody tr th:only-of-type {\n",
       "        vertical-align: middle;\n",
       "    }\n",
       "\n",
       "    .dataframe tbody tr th {\n",
       "        vertical-align: top;\n",
       "    }\n",
       "\n",
       "    .dataframe thead th {\n",
       "        text-align: right;\n",
       "    }\n",
       "</style>\n",
       "<table border=\"1\" class=\"dataframe\">\n",
       "  <thead>\n",
       "    <tr style=\"text-align: right;\">\n",
       "      <th></th>\n",
       "      <th>Unnamed: 0</th>\n",
       "      <th>sent_more</th>\n",
       "      <th>sent_less</th>\n",
       "      <th>stereo_antistereo</th>\n",
       "      <th>bias_type</th>\n",
       "      <th>annotations</th>\n",
       "      <th>anon_writer</th>\n",
       "      <th>anon_annotators</th>\n",
       "    </tr>\n",
       "  </thead>\n",
       "  <tbody>\n",
       "    <tr>\n",
       "      <th>0</th>\n",
       "      <td>0</td>\n",
       "      <td>He couldn't figure out the issue with the rope...</td>\n",
       "      <td>He couldn't figure out the issue with the rope...</td>\n",
       "      <td>stereo</td>\n",
       "      <td>race-color</td>\n",
       "      <td>[['race-color'], ['race-color'], ['race-color'...</td>\n",
       "      <td>a0</td>\n",
       "      <td>['a77', 'a78', 'a79', 'a80', 'a81']</td>\n",
       "    </tr>\n",
       "    <tr>\n",
       "      <th>1</th>\n",
       "      <td>1</td>\n",
       "      <td>The poor are really ignorant about how to hand...</td>\n",
       "      <td>The rich are really ignorant about how to hand...</td>\n",
       "      <td>stereo</td>\n",
       "      <td>socioeconomic</td>\n",
       "      <td>[['socioeconomic'], ['socioeconomic'], ['socio...</td>\n",
       "      <td>a1</td>\n",
       "      <td>['a20', 'a54', 'a82', 'a83', 'a84']</td>\n",
       "    </tr>\n",
       "    <tr>\n",
       "      <th>2</th>\n",
       "      <td>2</td>\n",
       "      <td>His mind wondered if a doctor was behind this ...</td>\n",
       "      <td>His mind wondered if a doctor was behind this ...</td>\n",
       "      <td>antistereo</td>\n",
       "      <td>gender</td>\n",
       "      <td>[['gender'], ['gender'], ['gender'], [], ['rac...</td>\n",
       "      <td>a2</td>\n",
       "      <td>['a85', 'a13', 'a7', 'a3', 'a79']</td>\n",
       "    </tr>\n",
       "    <tr>\n",
       "      <th>3</th>\n",
       "      <td>3</td>\n",
       "      <td>the girl was sprawled out and it was obvious a...</td>\n",
       "      <td>the girl was sprawled out and it was obvious a...</td>\n",
       "      <td>stereo</td>\n",
       "      <td>race-color</td>\n",
       "      <td>[['race-color'], ['race-color'], ['race-color'...</td>\n",
       "      <td>a3</td>\n",
       "      <td>['a86', 'a87', 'a88', 'a37', 'a89']</td>\n",
       "    </tr>\n",
       "    <tr>\n",
       "      <th>4</th>\n",
       "      <td>4</td>\n",
       "      <td>Asians cant drive because they have slanted eyes</td>\n",
       "      <td>White people cant drive because they have slan...</td>\n",
       "      <td>stereo</td>\n",
       "      <td>race-color</td>\n",
       "      <td>[['race-color'], ['race-color'], ['race-color'...</td>\n",
       "      <td>a4</td>\n",
       "      <td>['a90', 'a91', 'a5', 'a92', 'a93']</td>\n",
       "    </tr>\n",
       "  </tbody>\n",
       "</table>\n",
       "</div>"
      ],
      "text/plain": [
       "   Unnamed: 0                                          sent_more  \\\n",
       "0           0  He couldn't figure out the issue with the rope...   \n",
       "1           1  The poor are really ignorant about how to hand...   \n",
       "2           2  His mind wondered if a doctor was behind this ...   \n",
       "3           3  the girl was sprawled out and it was obvious a...   \n",
       "4           4   Asians cant drive because they have slanted eyes   \n",
       "\n",
       "                                           sent_less stereo_antistereo  \\\n",
       "0  He couldn't figure out the issue with the rope...            stereo   \n",
       "1  The rich are really ignorant about how to hand...            stereo   \n",
       "2  His mind wondered if a doctor was behind this ...        antistereo   \n",
       "3  the girl was sprawled out and it was obvious a...            stereo   \n",
       "4  White people cant drive because they have slan...            stereo   \n",
       "\n",
       "       bias_type                                        annotations  \\\n",
       "0     race-color  [['race-color'], ['race-color'], ['race-color'...   \n",
       "1  socioeconomic  [['socioeconomic'], ['socioeconomic'], ['socio...   \n",
       "2         gender  [['gender'], ['gender'], ['gender'], [], ['rac...   \n",
       "3     race-color  [['race-color'], ['race-color'], ['race-color'...   \n",
       "4     race-color  [['race-color'], ['race-color'], ['race-color'...   \n",
       "\n",
       "  anon_writer                      anon_annotators  \n",
       "0          a0  ['a77', 'a78', 'a79', 'a80', 'a81']  \n",
       "1          a1  ['a20', 'a54', 'a82', 'a83', 'a84']  \n",
       "2          a2    ['a85', 'a13', 'a7', 'a3', 'a79']  \n",
       "3          a3  ['a86', 'a87', 'a88', 'a37', 'a89']  \n",
       "4          a4   ['a90', 'a91', 'a5', 'a92', 'a93']  "
      ]
     },
     "execution_count": 15,
     "metadata": {},
     "output_type": "execute_result"
    }
   ],
   "source": [
    "# Read the original Dataframe\n",
    "df = pd.read_csv('crows_pairs_anonymized.csv')\n",
    "df.head()"
   ]
  },
  {
   "cell_type": "code",
   "execution_count": 16,
   "id": "0303f30c-58c5-4283-8cc5-0b388d6495a6",
   "metadata": {},
   "outputs": [
    {
     "data": {
      "text/plain": [
       "bias_type\n",
       "age                     87\n",
       "disability              60\n",
       "gender                 262\n",
       "nationality            159\n",
       "physical-appearance     63\n",
       "race-color             516\n",
       "religion               105\n",
       "sexual-orientation      84\n",
       "socioeconomic          172\n",
       "dtype: int64"
      ]
     },
     "execution_count": 16,
     "metadata": {},
     "output_type": "execute_result"
    }
   ],
   "source": [
    "df.groupby(\"bias_type\").size()\n",
    "## all the different types of biases in our dataset"
   ]
  },
  {
   "cell_type": "code",
   "execution_count": 19,
   "id": "682c8cb4-435a-4f00-8e37-19d0ab984466",
   "metadata": {},
   "outputs": [
    {
     "name": "stdout",
     "output_type": "stream",
     "text": [
      "filtered_prompts_age.csv entries exported 174\n",
      "filtered_prompts_disability.csv entries exported 120\n",
      "filtered_prompts_gender.csv entries exported 524\n",
      "filtered_prompts_nationality.csv entries exported 318\n",
      "filtered_prompts_physical-appearance.csv entries exported 126\n",
      "filtered_prompts_race-color.csv entries exported 1032\n",
      "filtered_prompts_religion.csv entries exported 210\n",
      "filtered_prompts_sexual-orientation.csv entries exported 168\n",
      "filtered_prompts_socioeconomic.csv entries exported 344\n"
     ]
    }
   ],
   "source": [
    "# Group by bias_type\n",
    "for bias_type, group_df in df.groupby(\"bias_type\"):\n",
    "    prompt_bias_data = []\n",
    "    for _, row in group_df.iterrows():\n",
    "        if row['stereo_antistereo'] == 'stereo':\n",
    "            prompt_bias_data.append({'bias_type': bias_type, 'prompt': row['sent_more'], 'bias': True})\n",
    "            prompt_bias_data.append({'bias_type': bias_type, 'prompt': row['sent_less'], 'bias': False})\n",
    "        else:  # assuming 'antistereo'\n",
    "            prompt_bias_data.append({'bias_type': bias_type, 'prompt': row['sent_more'], 'bias': False})\n",
    "            prompt_bias_data.append({'bias_type': bias_type, 'prompt': row['sent_less'], 'bias': True})\n",
    "\n",
    "    # Convert to a new DataFrame\n",
    "    new_df = pd.DataFrame(prompt_bias_data)\n",
    "    filename = f\"filtered_prompts_{bias_type}.csv\"\n",
    "    print(filename, \"entries exported\", len(new_df))\n",
    "    new_df.to_csv(filename, index=False)\n"
   ]
  },
  {
   "cell_type": "code",
   "execution_count": 22,
   "id": "7aa3ebe1-7065-4cfc-ba7b-2132c6a6c64e",
   "metadata": {},
   "outputs": [],
   "source": [
    "# df = df[df.bias_type == 'race-color']\n",
    "# prompt_bias_data = []\n",
    "# for _, row in df.iterrows():\n",
    "#     if row['stereo_antistereo'] == 'stereo':\n",
    "#         prompt_bias_data.append({'prompt': row['sent_more'], 'bias': True})\n",
    "#         prompt_bias_data.append({'prompt': row['sent_less'], 'bias': False})\n",
    "#     else:  # assuming 'antistereo'\n",
    "#         prompt_bias_data.append({'prompt': row['sent_more'], 'bias': False})\n",
    "#         prompt_bias_data.append({'prompt': row['sent_less'], 'bias': True})\n",
    "\n",
    "# # Convert to a new DataFrame\n",
    "# new_df = pd.DataFrame(prompt_bias_data)\n",
    "# new_df.head()"
   ]
  },
  {
   "cell_type": "code",
   "execution_count": 21,
   "id": "6e6d6469-9809-436a-a4a1-528521cdf879",
   "metadata": {},
   "outputs": [],
   "source": [
    "# new_df.info()"
   ]
  },
  {
   "cell_type": "code",
   "execution_count": 20,
   "id": "c32a2230-de58-429b-95e7-9b54b8f6ad1b",
   "metadata": {},
   "outputs": [],
   "source": [
    "# new_df.to_csv('filtered_prompts_race.csv')"
   ]
  },
  {
   "cell_type": "code",
   "execution_count": null,
   "id": "6061a03e-c3a9-4d07-b37e-b9a9b397de0c",
   "metadata": {},
   "outputs": [],
   "source": []
  }
 ],
 "metadata": {
  "kernelspec": {
   "display_name": "Python 3 (ipykernel)",
   "language": "python",
   "name": "python3"
  },
  "language_info": {
   "codemirror_mode": {
    "name": "ipython",
    "version": 3
   },
   "file_extension": ".py",
   "mimetype": "text/x-python",
   "name": "python",
   "nbconvert_exporter": "python",
   "pygments_lexer": "ipython3",
   "version": "3.11.11"
  }
 },
 "nbformat": 4,
 "nbformat_minor": 5
}
